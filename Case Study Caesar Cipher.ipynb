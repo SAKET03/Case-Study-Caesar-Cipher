{
 "cells": [
  {
   "cell_type": "code",
   "execution_count": 3,
   "id": "4557050f",
   "metadata": {},
   "outputs": [],
   "source": [
    "import string\n",
    "alphabet = \" \" + string.ascii_lowercase\n",
    "positions = {alphabet[i]: i for i in range(0,len(alphabet))} "
   ]
  },
  {
   "cell_type": "code",
   "execution_count": 4,
   "id": "6e78c7b8",
   "metadata": {},
   "outputs": [],
   "source": [
    "message = \"hi my name is caesar\"\n",
    "shift = 1\n",
    "encoded_message = ''"
   ]
  },
  {
   "cell_type": "code",
   "execution_count": 5,
   "id": "e605c336",
   "metadata": {},
   "outputs": [
    {
     "name": "stdout",
     "output_type": "stream",
     "text": [
      "klcpacqdphclvcfdhvdu\n"
     ]
    }
   ],
   "source": [
    "def encoding(message,shift):\n",
    "    encoded_message=''\n",
    "    for i in range(len(message)): \n",
    "        pos_message = positions[message[i]]\n",
    "        new_pos_message = pos_message + shift\n",
    "        new_pos_message = new_pos_message % (len(alphabet))\n",
    "        onekey = [key  for (key, value) in positions.items() if value == new_pos_message]\n",
    "        onekey = ''.join(onekey) \n",
    "        encoded_message = encoded_message + onekey\n",
    "    return(encoded_message)\n",
    "\n",
    "encoded_message = encoding(message,3)\n",
    "print(encoded_message)"
   ]
  },
  {
   "cell_type": "code",
   "execution_count": 6,
   "id": "e926a9a4",
   "metadata": {},
   "outputs": [
    {
     "name": "stdout",
     "output_type": "stream",
     "text": [
      "hi my name is caesar\n"
     ]
    }
   ],
   "source": [
    "decoded_message = encoding(encoded_message,-3)\n",
    "print(decoded_message)"
   ]
  }
 ],
 "metadata": {
  "kernelspec": {
   "display_name": "Python 3",
   "language": "python",
   "name": "python3"
  },
  "language_info": {
   "codemirror_mode": {
    "name": "ipython",
    "version": 3
   },
   "file_extension": ".py",
   "mimetype": "text/x-python",
   "name": "python",
   "nbconvert_exporter": "python",
   "pygments_lexer": "ipython3",
   "version": "3.8.10"
  }
 },
 "nbformat": 4,
 "nbformat_minor": 5
}
